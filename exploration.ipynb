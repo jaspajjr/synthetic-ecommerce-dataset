{
 "cells": [
  {
   "cell_type": "code",
   "execution_count": 110,
   "metadata": {
    "collapsed": true
   },
   "outputs": [],
   "source": [
    "from __future__ import division\n",
    "import pandas as pd\n",
    "import uuid\n",
    "import random\n",
    "import numpy as np\n",
    "import datetime, time\n",
    "import matplotlib.pyplot as plt\n",
    "\n",
    "%matplotlib inline"
   ]
  },
  {
   "cell_type": "code",
   "execution_count": 3,
   "metadata": {},
   "outputs": [
    {
     "name": "stdout",
     "output_type": "stream",
     "text": [
      "<class 'pandas.core.frame.DataFrame'>\n",
      "RangeIndex: 8354396 entries, 0 to 8354395\n",
      "Data columns (total 3 columns):\n",
      "date             int64\n",
      "fullVisitorId    uint64\n",
      "transactions     float64\n",
      "dtypes: float64(1), int64(1), uint64(1)\n",
      "memory usage: 191.2 MB\n",
      "None\n"
     ]
    },
    {
     "data": {
      "text/html": [
       "<div>\n",
       "<style scoped>\n",
       "    .dataframe tbody tr th:only-of-type {\n",
       "        vertical-align: middle;\n",
       "    }\n",
       "\n",
       "    .dataframe tbody tr th {\n",
       "        vertical-align: top;\n",
       "    }\n",
       "\n",
       "    .dataframe thead th {\n",
       "        text-align: right;\n",
       "    }\n",
       "</style>\n",
       "<table border=\"1\" class=\"dataframe\">\n",
       "  <thead>\n",
       "    <tr style=\"text-align: right;\">\n",
       "      <th></th>\n",
       "      <th>date</th>\n",
       "      <th>fullVisitorId</th>\n",
       "      <th>transactions</th>\n",
       "    </tr>\n",
       "  </thead>\n",
       "  <tbody>\n",
       "    <tr>\n",
       "      <th>0</th>\n",
       "      <td>20160930</td>\n",
       "      <td>1769651648414523235</td>\n",
       "      <td>NaN</td>\n",
       "    </tr>\n",
       "    <tr>\n",
       "      <th>1</th>\n",
       "      <td>20160930</td>\n",
       "      <td>1867790925252608084</td>\n",
       "      <td>NaN</td>\n",
       "    </tr>\n",
       "    <tr>\n",
       "      <th>2</th>\n",
       "      <td>20160930</td>\n",
       "      <td>2083829884801365723</td>\n",
       "      <td>NaN</td>\n",
       "    </tr>\n",
       "    <tr>\n",
       "      <th>3</th>\n",
       "      <td>20160930</td>\n",
       "      <td>272111073307289500</td>\n",
       "      <td>NaN</td>\n",
       "    </tr>\n",
       "    <tr>\n",
       "      <th>4</th>\n",
       "      <td>20160930</td>\n",
       "      <td>291837269665288281</td>\n",
       "      <td>NaN</td>\n",
       "    </tr>\n",
       "  </tbody>\n",
       "</table>\n",
       "</div>"
      ],
      "text/plain": [
       "       date        fullVisitorId  transactions\n",
       "0  20160930  1769651648414523235           NaN\n",
       "1  20160930  1867790925252608084           NaN\n",
       "2  20160930  2083829884801365723           NaN\n",
       "3  20160930   272111073307289500           NaN\n",
       "4  20160930   291837269665288281           NaN"
      ]
     },
     "execution_count": 3,
     "metadata": {},
     "output_type": "execute_result"
    }
   ],
   "source": [
    "raw_df = pd.read_csv('/home/jasper/Downloads/user-actions000000000000', sep=',')\n",
    "\n",
    "print raw_df.info()\n",
    "\n",
    "raw_df.head()"
   ]
  },
  {
   "cell_type": "markdown",
   "metadata": {},
   "source": [
    "For each day in the range, we need to calculate how many different visits there were.\n",
    "\n",
    "For each visit we need:\n",
    "    - Who the user was, if they were returning or not\n",
    "    - Session start time\n",
    "    - If they purchased\n",
    "    - How many items they purchased\n",
    "    - Which items they purchased (Product IDs)\n",
    "    - The total transaction revenue\n",
    "    - Google search terms\n",
    "    - Channel\n",
    "    - Onsite search terms\n",
    "    - User Agent Stuff [\n",
    "        device broser,\n",
    "        browser version,\n",
    "        OS,\n",
    "        geo - town,\n",
    "        lat,\n",
    "        long]    "
   ]
  },
  {
   "cell_type": "code",
   "execution_count": 351,
   "metadata": {
    "collapsed": true
   },
   "outputs": [],
   "source": [
    "def how_many_visits_today(lower_bound, upper_bound):\n",
    "    return np.random.randint(lower_bound, upper_bound)\n",
    "\n",
    "def generate_session_id():\n",
    "    return uuid.uuid4()\n",
    "\n",
    "def generate_time_of_day():\n",
    "    return {\n",
    "        'hours': random.randrange(0, 23),\n",
    "        'minutes': random.randrange(0, 59),\n",
    "        'seconds': random.randrange(0, 59)\n",
    "    }\n",
    "\n",
    "def combine_times(input_date):\n",
    "    return input_date + datetime.timedelta(**generate_time_of_day())\n",
    "    \n",
    "def was_product_purchased():\n",
    "    X = random.random()\n",
    "    if X >= .95:\n",
    "        return True\n",
    "    else:\n",
    "        return False\n",
    "    \n",
    "def which_product_was_purchased():\n",
    "    p_id = np.random.multinomial(1, [1/7.]*5 + [2/7.], size=1).argmax()\n",
    "    return {'id': '{0}'.format(p_id)}\n",
    "\n",
    "def how_much_was_the_product(p_id):\n",
    "    X = {\n",
    "        1: 10,\n",
    "        2: 20,\n",
    "        3: 30,\n",
    "        4: 40,\n",
    "        5: 50,\n",
    "        0: 5}\n",
    "    return X[p_id]\n",
    "\n",
    "def which_marketing_channel():\n",
    "    channels = {\n",
    "        0: 'direct',\n",
    "        1: 'seo',\n",
    "        2: 'cpc',\n",
    "        3: 'display',\n",
    "        4: 'other'\n",
    "    }\n",
    "    return channels[np.random.multinomial(1, [1/5.]*5, size=1).argmax()]\n",
    "\n",
    "def which_browser():\n",
    "    browser = {\n",
    "        0: 'edge',\n",
    "        1: 'chrome',\n",
    "        2: 'firefox',\n",
    "        3: 'apple',\n",
    "        4: 'other'\n",
    "    }\n",
    "    return browser[np.random.multinomial(1, [1/5.]*5, size=1).argmax()]\n",
    "\n",
    "\n",
    "def which_OS():\n",
    "    OS = {\n",
    "        0: 'windows',\n",
    "        1: 'linux',\n",
    "        2: 'apple',\n",
    "        3: 'gentoo'\n",
    "    }\n",
    "    return OS[np.random.multinomial(1, [5/10., 3/10., 3/20., 1/20.], size=1).argmax()]\n",
    "\n",
    "\n",
    "def generate_user_record(date):\n",
    "    return {\n",
    "        'session_id': generate_session_id(),\n",
    "        'visitStartTime': combine_times(d),\n",
    "        'transaction': was_product_purchased(),\n",
    "        'marketing_channel': which_marketing_channel(),\n",
    "        'deviceBrowser': which_browser(),\n",
    "        'which_OS': which_OS()}"
   ]
  },
  {
   "cell_type": "code",
   "execution_count": 317,
   "metadata": {},
   "outputs": [],
   "source": []
  },
  {
   "cell_type": "code",
   "execution_count": 346,
   "metadata": {},
   "outputs": [],
   "source": [
    "user_list = []\n",
    "for d in pd.date_range(start=start_date, end='2018-01-31'):\n",
    "    user_list.append(generate_user_record(d))"
   ]
  },
  {
   "cell_type": "code",
   "execution_count": 352,
   "metadata": {},
   "outputs": [
    {
     "name": "stdout",
     "output_type": "stream",
     "text": [
      "<class 'pandas.core.frame.DataFrame'>\n",
      "RangeIndex: 31 entries, 0 to 30\n",
      "Data columns (total 6 columns):\n",
      "deviceBrowser        31 non-null object\n",
      "marketing_channel    31 non-null object\n",
      "session_id           31 non-null object\n",
      "transaction          31 non-null bool\n",
      "visitStartTime       31 non-null datetime64[ns]\n",
      "which_OS             31 non-null object\n",
      "dtypes: bool(1), datetime64[ns](1), object(4)\n",
      "memory usage: 1.3+ KB\n",
      "None\n"
     ]
    },
    {
     "data": {
      "text/html": [
       "<div>\n",
       "<style scoped>\n",
       "    .dataframe tbody tr th:only-of-type {\n",
       "        vertical-align: middle;\n",
       "    }\n",
       "\n",
       "    .dataframe tbody tr th {\n",
       "        vertical-align: top;\n",
       "    }\n",
       "\n",
       "    .dataframe thead th {\n",
       "        text-align: right;\n",
       "    }\n",
       "</style>\n",
       "<table border=\"1\" class=\"dataframe\">\n",
       "  <thead>\n",
       "    <tr style=\"text-align: right;\">\n",
       "      <th></th>\n",
       "      <th>deviceBrowser</th>\n",
       "      <th>marketing_channel</th>\n",
       "      <th>session_id</th>\n",
       "      <th>transaction</th>\n",
       "      <th>visitStartTime</th>\n",
       "      <th>which_OS</th>\n",
       "    </tr>\n",
       "  </thead>\n",
       "  <tbody>\n",
       "    <tr>\n",
       "      <th>0</th>\n",
       "      <td>edge</td>\n",
       "      <td>seo</td>\n",
       "      <td>f2146512-682d-415f-8596-aef67a67df1e</td>\n",
       "      <td>False</td>\n",
       "      <td>2018-01-01 10:29:16</td>\n",
       "      <td>windows</td>\n",
       "    </tr>\n",
       "    <tr>\n",
       "      <th>1</th>\n",
       "      <td>edge</td>\n",
       "      <td>other</td>\n",
       "      <td>6b5a6548-08dd-442f-9dbc-394cd0fbb264</td>\n",
       "      <td>False</td>\n",
       "      <td>2018-01-02 21:12:39</td>\n",
       "      <td>windows</td>\n",
       "    </tr>\n",
       "    <tr>\n",
       "      <th>2</th>\n",
       "      <td>firefox</td>\n",
       "      <td>display</td>\n",
       "      <td>86eb4010-59cf-4d5e-9c41-11046494a8db</td>\n",
       "      <td>False</td>\n",
       "      <td>2018-01-03 22:55:39</td>\n",
       "      <td>windows</td>\n",
       "    </tr>\n",
       "    <tr>\n",
       "      <th>3</th>\n",
       "      <td>other</td>\n",
       "      <td>other</td>\n",
       "      <td>8da7060d-9968-43a1-8493-373fa4104a56</td>\n",
       "      <td>False</td>\n",
       "      <td>2018-01-04 11:54:50</td>\n",
       "      <td>windows</td>\n",
       "    </tr>\n",
       "    <tr>\n",
       "      <th>4</th>\n",
       "      <td>other</td>\n",
       "      <td>display</td>\n",
       "      <td>e4ada8e1-c02d-41ae-b637-46c411618fae</td>\n",
       "      <td>False</td>\n",
       "      <td>2018-01-05 19:16:42</td>\n",
       "      <td>windows</td>\n",
       "    </tr>\n",
       "  </tbody>\n",
       "</table>\n",
       "</div>"
      ],
      "text/plain": [
       "  deviceBrowser marketing_channel                            session_id  \\\n",
       "0          edge               seo  f2146512-682d-415f-8596-aef67a67df1e   \n",
       "1          edge             other  6b5a6548-08dd-442f-9dbc-394cd0fbb264   \n",
       "2       firefox           display  86eb4010-59cf-4d5e-9c41-11046494a8db   \n",
       "3         other             other  8da7060d-9968-43a1-8493-373fa4104a56   \n",
       "4         other           display  e4ada8e1-c02d-41ae-b637-46c411618fae   \n",
       "\n",
       "   transaction      visitStartTime which_OS  \n",
       "0        False 2018-01-01 10:29:16  windows  \n",
       "1        False 2018-01-02 21:12:39  windows  \n",
       "2        False 2018-01-03 22:55:39  windows  \n",
       "3        False 2018-01-04 11:54:50  windows  \n",
       "4        False 2018-01-05 19:16:42  windows  "
      ]
     },
     "execution_count": 352,
     "metadata": {},
     "output_type": "execute_result"
    }
   ],
   "source": [
    "df = pd.DataFrame(user_list)\n",
    "\n",
    "print df.info()\n",
    "\n",
    "df.head()"
   ]
  },
  {
   "cell_type": "code",
   "execution_count": 353,
   "metadata": {
    "collapsed": true
   },
   "outputs": [],
   "source": [
    "X = pd.DataFrame({'foo': [1, 2, 3, 4, 0]})"
   ]
  },
  {
   "cell_type": "code",
   "execution_count": 170,
   "metadata": {},
   "outputs": [],
   "source": []
  },
  {
   "cell_type": "code",
   "execution_count": 175,
   "metadata": {},
   "outputs": [
    {
     "data": {
      "text/plain": [
       "30"
      ]
     },
     "execution_count": 175,
     "metadata": {},
     "output_type": "execute_result"
    }
   ],
   "source": [
    "how_much_was_the_product(which_product_was_purchased()['id'])"
   ]
  },
  {
   "cell_type": "code",
   "execution_count": 195,
   "metadata": {},
   "outputs": [
    {
     "data": {
      "text/plain": [
       "{'id': '5'}"
      ]
     },
     "execution_count": 195,
     "metadata": {},
     "output_type": "execute_result"
    }
   ],
   "source": [
    "which_product_was_purchased()"
   ]
  }
 ],
 "metadata": {
  "kernelspec": {
   "display_name": "Python 2",
   "language": "python",
   "name": "python2"
  },
  "language_info": {
   "codemirror_mode": {
    "name": "ipython",
    "version": 2
   },
   "file_extension": ".py",
   "mimetype": "text/x-python",
   "name": "python",
   "nbconvert_exporter": "python",
   "pygments_lexer": "ipython2",
   "version": "2.7.13"
  }
 },
 "nbformat": 4,
 "nbformat_minor": 2
}
