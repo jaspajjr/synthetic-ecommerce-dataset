{
 "cells": [
  {
   "cell_type": "code",
   "execution_count": 110,
   "metadata": {
    "collapsed": true
   },
   "outputs": [],
   "source": [
    "from __future__ import division\n",
    "import pandas as pd\n",
    "import uuid\n",
    "import random\n",
    "import numpy as np\n",
    "import datetime, time\n",
    "import matplotlib.pyplot as plt\n",
    "\n",
    "%matplotlib inline"
   ]
  },
  {
   "cell_type": "code",
   "execution_count": 3,
   "metadata": {},
   "outputs": [
    {
     "name": "stdout",
     "output_type": "stream",
     "text": [
      "<class 'pandas.core.frame.DataFrame'>\n",
      "RangeIndex: 8354396 entries, 0 to 8354395\n",
      "Data columns (total 3 columns):\n",
      "date             int64\n",
      "fullVisitorId    uint64\n",
      "transactions     float64\n",
      "dtypes: float64(1), int64(1), uint64(1)\n",
      "memory usage: 191.2 MB\n",
      "None\n"
     ]
    },
    {
     "data": {
      "text/html": [
       "<div>\n",
       "<style scoped>\n",
       "    .dataframe tbody tr th:only-of-type {\n",
       "        vertical-align: middle;\n",
       "    }\n",
       "\n",
       "    .dataframe tbody tr th {\n",
       "        vertical-align: top;\n",
       "    }\n",
       "\n",
       "    .dataframe thead th {\n",
       "        text-align: right;\n",
       "    }\n",
       "</style>\n",
       "<table border=\"1\" class=\"dataframe\">\n",
       "  <thead>\n",
       "    <tr style=\"text-align: right;\">\n",
       "      <th></th>\n",
       "      <th>date</th>\n",
       "      <th>fullVisitorId</th>\n",
       "      <th>transactions</th>\n",
       "    </tr>\n",
       "  </thead>\n",
       "  <tbody>\n",
       "    <tr>\n",
       "      <th>0</th>\n",
       "      <td>20160930</td>\n",
       "      <td>1769651648414523235</td>\n",
       "      <td>NaN</td>\n",
       "    </tr>\n",
       "    <tr>\n",
       "      <th>1</th>\n",
       "      <td>20160930</td>\n",
       "      <td>1867790925252608084</td>\n",
       "      <td>NaN</td>\n",
       "    </tr>\n",
       "    <tr>\n",
       "      <th>2</th>\n",
       "      <td>20160930</td>\n",
       "      <td>2083829884801365723</td>\n",
       "      <td>NaN</td>\n",
       "    </tr>\n",
       "    <tr>\n",
       "      <th>3</th>\n",
       "      <td>20160930</td>\n",
       "      <td>272111073307289500</td>\n",
       "      <td>NaN</td>\n",
       "    </tr>\n",
       "    <tr>\n",
       "      <th>4</th>\n",
       "      <td>20160930</td>\n",
       "      <td>291837269665288281</td>\n",
       "      <td>NaN</td>\n",
       "    </tr>\n",
       "  </tbody>\n",
       "</table>\n",
       "</div>"
      ],
      "text/plain": [
       "       date        fullVisitorId  transactions\n",
       "0  20160930  1769651648414523235           NaN\n",
       "1  20160930  1867790925252608084           NaN\n",
       "2  20160930  2083829884801365723           NaN\n",
       "3  20160930   272111073307289500           NaN\n",
       "4  20160930   291837269665288281           NaN"
      ]
     },
     "execution_count": 3,
     "metadata": {},
     "output_type": "execute_result"
    }
   ],
   "source": [
    "raw_df = pd.read_csv('/home/jasper/Downloads/user-actions000000000000', sep=',')\n",
    "\n",
    "print raw_df.info()\n",
    "\n",
    "raw_df.head()"
   ]
  },
  {
   "cell_type": "markdown",
   "metadata": {},
   "source": [
    "For each day in the range, we need to calculate how many different visits there were.\n",
    "\n",
    "For each visit we need:\n",
    "    - Who the user was, if they were returning or not\n",
    "    - Session start time\n",
    "    - If they purchased\n",
    "    - How many items they purchased\n",
    "    - Which items they purchased (Product IDs)\n",
    "    - The total transaction revenue\n",
    "    - Google search terms\n",
    "    - Channel\n",
    "    - Onsite search terms\n",
    "    - User Agent Stuff [\n",
    "        device broser,\n",
    "        browser version,\n",
    "        OS,\n",
    "        geo - town,\n",
    "        lat,\n",
    "        long]    "
   ]
  },
  {
   "cell_type": "code",
   "execution_count": 338,
   "metadata": {
    "collapsed": true
   },
   "outputs": [],
   "source": [
    "def how_many_visits_today(lower_bound, upper_bound):\n",
    "    return np.random.randint(lower_bound, upper_bound)\n",
    "\n",
    "def generate_session_id():\n",
    "    return uuid.uuid4()\n",
    "\n",
    "def generate_time_of_day():\n",
    "    return {\n",
    "        'hours': random.randrange(0, 23),\n",
    "        'minutes': random.randrange(0, 59),\n",
    "        'seconds': random.randrange(0, 59)\n",
    "    }\n",
    "\n",
    "def combine_times(input_date):\n",
    "    yield input_date + datetime.timedelta(**generate_time_of_day())\n",
    "    \n",
    "def was_product_purchased():\n",
    "    X = random.random()\n",
    "    if X >= .95:\n",
    "        return True\n",
    "    else:\n",
    "        return False\n",
    "    \n",
    "def which_product_was_purchased():\n",
    "    p_id = np.random.multinomial(1, [1/7.]*5 + [2/7.], size=1).argmax()\n",
    "    return {'id': '{0}'.format(p_id)}\n",
    "\n",
    "def how_much_was_the_product(p_id):\n",
    "    X = {\n",
    "        '1': 10,\n",
    "        '2': 20,\n",
    "        '3': 30,\n",
    "        '4': 40,\n",
    "        '5': 50,\n",
    "        '0': 5}\n",
    "    return X[p_id]\n",
    "\n",
    "def which_marketing_channel():\n",
    "    channels = {\n",
    "        0: 'direct',\n",
    "        1: 'seo',\n",
    "        2: 'cpc',\n",
    "        3: 'display',\n",
    "        4: 'other'\n",
    "    }\n",
    "    return channels[np.random.multinomial(1, [1/5.]*5, size=1).argmax()]\n",
    "\n",
    "def which_browser():\n",
    "    browser = {\n",
    "        0: 'edge',\n",
    "        1: 'chrome',\n",
    "        2: 'firefox',\n",
    "        3: 'apple',\n",
    "        4: 'other'\n",
    "    }\n",
    "    return browser[np.random.multinomial(1, [1/5.]*5, size=1).argmax()]\n",
    "\n",
    "\n",
    "def which_OS():\n",
    "    OS = {\n",
    "        0: 'windows',\n",
    "        1: 'linux',\n",
    "        2: 'apple',\n",
    "        3: 'gentoo'\n",
    "    }\n",
    "    return OS[np.random.multinomial(1, [5/10., 3/10., 3/20., 1/20.], size=1).argmax()]\n",
    "\n",
    "\n",
    "def generate_user_record(date):\n",
    "    return {\n",
    "        'session_id': generate_session_id(),\n",
    "        'visitStartTime': combine_times(d),\n",
    "        'transaction': was_product_purchased(),\n",
    "        'marketing_channel': which_marketing_channel(),\n",
    "        'deviceBrowser': which_browser(),\n",
    "        'which_OS': which_OS()}"
   ]
  },
  {
   "cell_type": "code",
   "execution_count": 317,
   "metadata": {},
   "outputs": [],
   "source": []
  },
  {
   "cell_type": "code",
   "execution_count": 331,
   "metadata": {},
   "outputs": [
    {
     "data": {
      "text/plain": [
       "'linux'"
      ]
     },
     "execution_count": 331,
     "metadata": {},
     "output_type": "execute_result"
    }
   ],
   "source": [
    "which_OS()"
   ]
  },
  {
   "cell_type": "code",
   "execution_count": 340,
   "metadata": {},
   "outputs": [
    {
     "data": {
      "text/plain": [
       "datetime.datetime(2018, 1, 31, 0, 0)"
      ]
     },
     "execution_count": 340,
     "metadata": {},
     "output_type": "execute_result"
    }
   ],
   "source": [
    "pd.date_range()"
   ]
  },
  {
   "cell_type": "code",
   "execution_count": 339,
   "metadata": {},
   "outputs": [
    {
     "data": {
      "text/plain": [
       "Timestamp('2018-01-31 00:00:00', freq='D')"
      ]
     },
     "execution_count": 339,
     "metadata": {},
     "output_type": "execute_result"
    }
   ],
   "source": [
    "d"
   ]
  },
  {
   "cell_type": "code",
   "execution_count": 336,
   "metadata": {},
   "outputs": [],
   "source": [
    "for d in pd.date_range(start=start_date, end='2018-01-31'):\n",
    "    user_record = generate_user_record(d)"
   ]
  },
  {
   "cell_type": "code",
   "execution_count": 337,
   "metadata": {},
   "outputs": [
    {
     "data": {
      "text/plain": [
       "{'deviceBrowser': 'other',\n",
       " 'marketing_channel': 'cpc',\n",
       " 'session_id': UUID('a2e55c85-77e6-4790-a7c0-e0d3f70af16f'),\n",
       " 'transaction': False,\n",
       " 'visitStartTime': <generator object combine_times at 0x7f95996ef780>,\n",
       " 'which_OS': 'windows'}"
      ]
     },
     "execution_count": 337,
     "metadata": {},
     "output_type": "execute_result"
    }
   ],
   "source": [
    "user_record"
   ]
  },
  {
   "cell_type": "code",
   "execution_count": 170,
   "metadata": {},
   "outputs": [],
   "source": []
  },
  {
   "cell_type": "code",
   "execution_count": 175,
   "metadata": {},
   "outputs": [
    {
     "data": {
      "text/plain": [
       "30"
      ]
     },
     "execution_count": 175,
     "metadata": {},
     "output_type": "execute_result"
    }
   ],
   "source": [
    "how_much_was_the_product(which_product_was_purchased()['id'])"
   ]
  },
  {
   "cell_type": "code",
   "execution_count": 195,
   "metadata": {},
   "outputs": [
    {
     "data": {
      "text/plain": [
       "{'id': '5'}"
      ]
     },
     "execution_count": 195,
     "metadata": {},
     "output_type": "execute_result"
    }
   ],
   "source": [
    "which_product_was_purchased()"
   ]
  }
 ],
 "metadata": {
  "kernelspec": {
   "display_name": "Python 2",
   "language": "python",
   "name": "python2"
  },
  "language_info": {
   "codemirror_mode": {
    "name": "ipython",
    "version": 2
   },
   "file_extension": ".py",
   "mimetype": "text/x-python",
   "name": "python",
   "nbconvert_exporter": "python",
   "pygments_lexer": "ipython2",
   "version": "2.7.13"
  }
 },
 "nbformat": 4,
 "nbformat_minor": 2
}
